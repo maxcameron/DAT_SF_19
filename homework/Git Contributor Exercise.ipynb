{
 "cells": [
  {
   "cell_type": "markdown",
   "metadata": {},
   "source": [
    "#Class 3 - Processing Files with Python\n",
    "###DATSF 19\n",
    "####Justin Breucop - 12/7/2015\n",
    "\n",
    "For a lot of data files in class we'll use functionality from various libraries to process data very quickly. However, for custom files, raw text, and data that is configured in a non-standard way, it is important to be able to extract data in a customized fashion. We'll go through this exercise using only libraries that come with the default python distribution. The first step will be to open the file in sublime.\n",
    "\n",
    "Let's say that we are curious about the latest release of ScikitLearn, since we are (or soon will be) frequent users. Our goal is to take the raw commits, sort our authors alphabetically and also count the number of contributions they made. Let's first look at the file. You can do this via the command line but for simplicity's sake we can use the Jupyter cell magic."
   ]
  },
  {
   "cell_type": "code",
   "execution_count": 73,
   "metadata": {
    "collapsed": false
   },
   "outputs": [
    {
     "name": "stdout",
     "output_type": "stream",
     "text": [
      "commit da4f480a6adf5fed30a42500fe0e5a21c404ac2a\n",
      "Author: Andreas Mueller <amueller@nyu.edu>\n",
      "Date:   Thu Nov 5 14:57:45 2015 -0500\n",
      "\n",
      "    Fix import of reload for python 3.3\n",
      "\n",
      "commit 45ef71f2175fe305152e20b1a6095c535b575b84\n",
      "Author: Andreas Mueller <amueller@nyu.edu>\n",
      "Date:   Thu Nov 5 14:31:45 2015 -0500\n",
      "\n",
      "    MAINT version string for 0.17. D'OH\n",
      "\n",
      "commit 37d18cef59a614661eb5afbadb9f8e1e124d685e\n",
      "Author: Andreas Mueller <amueller@nyu.edu>\n",
      "Date:   Wed Nov 4 14:28:25 2015 -0500\n",
      "\n",
      "    split installation into simple and advanced part\n",
      "\n",
      "commit 9334274305e8b9ef0273835a8a6b53ed0c1810c0\n",
      "Author: Andreas Mueller <t3kcit@gmail.com>\n",
      "Date:   Thu Nov 5 10:36:17 2015 -0500\n",
      "\n",
      "    skip unstable tests and doctests  on 32bit platform\n",
      "\n",
      "commit a4122f0f414d5f750259e8e0f12912984e505c20\n",
      "Author: Andreas Mueller <amueller@nyu.edu>\n",
      "Date:   Wed Nov 4 21:43:26 2015 -0500\n",
      "\n",
      "    More doc fixes. Latex builds again.\n",
      "\n",
      "commit 812c3a4e5d467be63262367a937edd625dea8dbd\n",
      "Author: Andreas Mueller <amueller@nyu.edu>\n",
      "Date:   Wed Nov 4 19:18:07 2015 -0500\n",
      "\n",
      "    REL add 0.17.0 release to news\n",
      "\n",
      "commit 21a99949cdf80cfbf7c56b116b212dd2730b597a\n",
      "Author: Andreas Mueller <amueller@nyu.edu>\n",
      "Date:   Wed Nov 4 19:17:52 2015 -0500\n",
      "\u001b[K\u001b[?1l\u001b>"
     ]
    }
   ],
   "source": [
    "# For Max/Linux users:\n",
    "! more ../data/raw_commits.txt"
   ]
  },
  {
   "cell_type": "markdown",
   "metadata": {},
   "source": [
    "We see that each commit has an Author and a date. We need to be able to read the file line by line and add to a list of authors. Remember to use `with open('<filename>') as <variable>` where `<filename>` is the full path to the file and the `<variable>` is any identifier (such as `f`).\n",
    "\n",
    "##### Lines of file -> List of Strings"
   ]
  },
  {
   "cell_type": "code",
   "execution_count": 74,
   "metadata": {
    "collapsed": false
   },
   "outputs": [
    {
     "name": "stdout",
     "output_type": "stream",
     "text": [
      "Author: Andreas Mueller <amueller@nyu.edu>\n",
      "\n"
     ]
    }
   ],
   "source": [
    "# Loop through each line of the txt file. If the line contains the word \"Author\", \n",
    "# add that line to a list as a string. Print the result at index 0. \n",
    "\n",
    "authors = []\n",
    "\n",
    "with open('../data/raw_commits.txt', 'r') as data:\n",
    "    for line in data:\n",
    "        if 'Author:' in line:\n",
    "            authors.append(line)\n",
    "\n",
    "print authors[0]"
   ]
  },
  {
   "cell_type": "code",
   "execution_count": 75,
   "metadata": {
    "collapsed": false
   },
   "outputs": [
    {
     "name": "stdout",
     "output_type": "stream",
     "text": [
      "[['Author:', 'Andreas', 'Mueller', '<amueller@nyu.edu>\\n'], ['Author:', 'Andreas', 'Mueller', '<amueller@nyu.edu>\\n'], ['Author:', 'Andreas', 'Mueller', '<amueller@nyu.edu>\\n']]\n"
     ]
    }
   ],
   "source": [
    "# Split each line at every space and add each string to a list\n",
    "\n",
    "authors = []\n",
    "\n",
    "with open('../data/raw_commits.txt', 'r') as data:\n",
    "    for line in data:\n",
    "        if 'Author:' in line:\n",
    "            authors.append(line.split(' '))\n",
    "\n",
    "print authors[0:3]"
   ]
  },
  {
   "cell_type": "code",
   "execution_count": 76,
   "metadata": {
    "collapsed": false
   },
   "outputs": [
    {
     "name": "stdout",
     "output_type": "stream",
     "text": [
      "[['Andreas', 'Mueller'], ['Andreas', 'Mueller'], ['Andreas', 'Mueller'], ['Andreas', 'Mueller'], ['Andreas', 'Mueller']]\n"
     ]
    }
   ],
   "source": [
    "# Only put the second and last list items into the list\n",
    "\n",
    "authors = []\n",
    "\n",
    "with open('../data/raw_commits.txt', 'r') as data:\n",
    "    for line in data:\n",
    "        if 'Author:' in line:\n",
    "            authors.append(line.split(' ')[1:-1])\n",
    "\n",
    "print authors[0:5]"
   ]
  },
  {
   "cell_type": "code",
   "execution_count": 77,
   "metadata": {
    "collapsed": false
   },
   "outputs": [
    {
     "name": "stdout",
     "output_type": "stream",
     "text": [
      "['Andreas Mueller', 'Andreas Mueller', 'Andreas Mueller', 'Andreas Mueller', 'Andreas Mueller']\n"
     ]
    }
   ],
   "source": [
    "# Join the first and last names into list items\n",
    "\n",
    "authors = []\n",
    "\n",
    "with open('../data/raw_commits.txt', 'r') as data:\n",
    "    for line in data:\n",
    "        if 'Author:' in line:\n",
    "            authors.append(' '.join(line.split(' ')[1:-1]))\n",
    "\n",
    "print authors[0:5]\n",
    "    \n",
    "# Make sure to append the author name to the list. You'll need to use string manipulation techniques."
   ]
  },
  {
   "cell_type": "code",
   "execution_count": 85,
   "metadata": {
    "collapsed": false
   },
   "outputs": [
    {
     "name": "stdout",
     "output_type": "stream",
     "text": [
      "['Andreas Mueller', 'Andreas Mueller', 'Andreas Mueller', 'Andreas Mueller', 'Andreas Mueller']\n"
     ]
    }
   ],
   "source": [
    "# Remove names that begin with a \"=\"\n",
    "authors = []\n",
    "\n",
    "with open('../data/raw_commits.txt', 'r') as data:\n",
    "    for line in data:\n",
    "        if 'Author:' in line and '=' not in line:            \n",
    "            authors.append(' '.join(line.split(' ')[1:-1]))            \n",
    "\n",
    "print authors[0:5]\n",
    "    "
   ]
  },
  {
   "cell_type": "markdown",
   "metadata": {},
   "source": [
    "Sort the authors to find the first and last authors, alphabetically. Make sure your data is clean! (No username should begin with an = sign, for example)\n",
    "\n",
    "#####List of Strings -> Sorted unique list"
   ]
  },
  {
   "cell_type": "code",
   "execution_count": 1,
   "metadata": {
    "collapsed": false
   },
   "outputs": [
    {
     "ename": "NameError",
     "evalue": "name 'authors' is not defined",
     "output_type": "error",
     "traceback": [
      "\u001b[0;31m---------------------------------------------------------------------------\u001b[0m",
      "\u001b[0;31mNameError\u001b[0m                                 Traceback (most recent call last)",
      "\u001b[0;32m<ipython-input-1-34bddb7b5fae>\u001b[0m in \u001b[0;36m<module>\u001b[0;34m()\u001b[0m\n\u001b[0;32m----> 1\u001b[0;31m \u001b[0msorted_authors\u001b[0m \u001b[0;34m=\u001b[0m \u001b[0msorted\u001b[0m\u001b[0;34m(\u001b[0m\u001b[0mauthors\u001b[0m\u001b[0;34m)\u001b[0m\u001b[0;34m\u001b[0m\u001b[0m\n\u001b[0m\u001b[1;32m      2\u001b[0m \u001b[0;32mprint\u001b[0m \u001b[0msorted_authors\u001b[0m\u001b[0;34m[\u001b[0m\u001b[0;36m0\u001b[0m\u001b[0;34m]\u001b[0m\u001b[0;34m[\u001b[0m\u001b[0;34m-\u001b[0m\u001b[0;36m1\u001b[0m\u001b[0;34m]\u001b[0m\u001b[0;34m\u001b[0m\u001b[0m\n\u001b[1;32m      3\u001b[0m \u001b[0;31m# print sorted_authors[-1]\u001b[0m\u001b[0;34m\u001b[0m\u001b[0;34m\u001b[0m\u001b[0m\n\u001b[1;32m      4\u001b[0m \u001b[0;31m# print sorted_authors[0:10]\u001b[0m\u001b[0;34m\u001b[0m\u001b[0;34m\u001b[0m\u001b[0m\n\u001b[1;32m      5\u001b[0m \u001b[0;31m#list(set(sorted_authors))\u001b[0m\u001b[0;34m\u001b[0m\u001b[0;34m\u001b[0m\u001b[0m\n",
      "\u001b[0;31mNameError\u001b[0m: name 'authors' is not defined"
     ]
    }
   ],
   "source": [
    "sorted_authors = sorted(authors)\n",
    "print sorted_authors[0][-1]\n",
    "# print sorted_authors[-1]\n",
    "# print sorted_authors[0:10]\n",
    "#list(set(sorted_authors))"
   ]
  },
  {
   "cell_type": "code",
   "execution_count": 79,
   "metadata": {
    "collapsed": false
   },
   "outputs": [],
   "source": [
    "# Think of what data types you can take advantage of"
   ]
  },
  {
   "cell_type": "markdown",
   "metadata": {},
   "source": [
    "To count out our data, we can loop over our list and construct a dictionary where the key is the commit author and the value increases whenever we match a key.\n",
    "#####List -> Dictionary"
   ]
  },
  {
   "cell_type": "code",
   "execution_count": null,
   "metadata": {
    "collapsed": true
   },
   "outputs": [],
   "source": []
  },
  {
   "cell_type": "markdown",
   "metadata": {},
   "source": [
    "Find the contributor with the highest number of commits. Useful dictionary method: `dict.get()`\n",
    "\n",
    "#####Dictionary -> Specific String"
   ]
  },
  {
   "cell_type": "code",
   "execution_count": null,
   "metadata": {
    "collapsed": false
   },
   "outputs": [],
   "source": []
  },
  {
   "cell_type": "markdown",
   "metadata": {},
   "source": [
    "Bonus: how do you handle a tie? Can you pull all authors with the lowest number of commits (without hardcoding the minimum)."
   ]
  },
  {
   "cell_type": "code",
   "execution_count": null,
   "metadata": {
    "collapsed": false
   },
   "outputs": [],
   "source": []
  }
 ],
 "metadata": {
  "kernelspec": {
   "display_name": "Python 2",
   "language": "python",
   "name": "python2"
  },
  "language_info": {
   "codemirror_mode": {
    "name": "ipython",
    "version": 2
   },
   "file_extension": ".py",
   "mimetype": "text/x-python",
   "name": "python",
   "nbconvert_exporter": "python",
   "pygments_lexer": "ipython2",
   "version": "2.7.10"
  }
 },
 "nbformat": 4,
 "nbformat_minor": 0
}
