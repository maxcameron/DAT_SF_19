{
 "cells": [
  {
   "cell_type": "code",
   "execution_count": 19,
   "metadata": {
    "collapsed": false
   },
   "outputs": [],
   "source": [
    "import numpy"
   ]
  },
  {
   "cell_type": "code",
   "execution_count": 21,
   "metadata": {
    "collapsed": false
   },
   "outputs": [
    {
     "data": {
      "text/plain": [
       "array([[-0.06596981, -0.336414  , -0.01034842, -1.16019547],\n",
       "       [-1.07545006,  0.36988309, -0.46048223, -0.51164601],\n",
       "       [-0.75729177, -1.63358045,  0.4121138 , -0.24794436],\n",
       "       [-1.20181913, -1.00916282,  0.25841561,  1.47816849],\n",
       "       [-0.58745669, -0.75802782, -0.43179378,  0.39612849],\n",
       "       [-1.47059816,  0.50448832,  0.65418215,  0.03946478],\n",
       "       [ 0.40955379,  1.93410412,  0.05312964, -1.03101228]])"
      ]
     },
     "execution_count": 21,
     "metadata": {},
     "output_type": "execute_result"
    }
   ],
   "source": [
    "n = numpy.random.randn(7, 4)\n",
    "n"
   ]
  },
  {
   "cell_type": "code",
   "execution_count": null,
   "metadata": {
    "collapsed": true
   },
   "outputs": [],
   "source": []
  }
 ],
 "metadata": {
  "kernelspec": {
   "display_name": "Python 2",
   "language": "python",
   "name": "python2"
  },
  "language_info": {
   "codemirror_mode": {
    "name": "ipython",
    "version": 2
   },
   "file_extension": ".py",
   "mimetype": "text/x-python",
   "name": "python",
   "nbconvert_exporter": "python",
   "pygments_lexer": "ipython2",
   "version": "2.7.11"
  }
 },
 "nbformat": 4,
 "nbformat_minor": 0
}
